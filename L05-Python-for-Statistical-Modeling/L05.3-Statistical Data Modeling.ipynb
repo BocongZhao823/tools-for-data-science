{
 "metadata": {
  "name": "",
  "signature": "sha256:9a2bd2bda2b748c0c59470699902b4cdc25b6591df0475ece5168f61fdb29bd1"
 },
 "nbformat": 3,
 "nbformat_minor": 0,
 "worksheets": [
  {
   "cells": [
    {
     "cell_type": "markdown",
     "metadata": {},
     "source": [
      "# Statistical Data Modeling\n",
      "\n",
      "Some or most of you have probably taken some undergraduate- or graduate-level statistics courses. Unfortunately, the curricula for most introductory statisics courses are mostly focused on conducting **statistical hypothesis tests** as the primary means for interest: t-tests, chi-squared tests, analysis of variance, etc. Such tests seek to esimate whether groups are \"significantly different \"or effects are \"statistically significant\", a concept that is poorly understood, and hence, often misused by practioners. Even when interpreted *correctly*, statistical significance (as characterized by a small p-value) is a questionable goal for statistical inference, as it is not a measure of evidence in any statistical sense.\n",
      "\n",
      "A far more powerful approach to statistical analysis involves building flexible **models** with the overarching aim of *estimating* quantities of interest. This section of the tutorial illustrates how to use Python to build statistical models of low to moderate difficulty from scratch, and use them to extract estimates and associated measures of uncertainty. These estimates can then be passed on to individuals with domain expertise who can then appraise them for \"real-world\" significance."
     ]
    },
    {
     "cell_type": "code",
     "collapsed": false,
     "input": [
      "%matplotlib inline\n",
      "import numpy as np\n",
      "import pandas as pd\n",
      "import matplotlib.pyplot as plt\n",
      "import statsmodels.api as sm\n",
      "\n",
      "# Set some Pandas options\n",
      "pd.set_option('display.notebook_repr_html', False)\n",
      "pd.set_option('display.max_columns', 20)\n",
      "pd.set_option('display.max_rows', 25)"
     ],
     "language": "python",
     "metadata": {},
     "outputs": [],
     "prompt_number": 1
    },
    {
     "cell_type": "markdown",
     "metadata": {},
     "source": [
      "Estimation\n",
      "==========\n",
      "\n",
      "An recurring statistical problem is finding estimates of the relevant parameters that correspond to the distribution that best represents our data.\n",
      "\n",
      "In **parametric** inference, we specify *a priori* a suitable distribution, then choose the parameters that best fit the data.\n",
      "\n",
      "* e.g. $\\mu$ and $\\sigma^2$ in the case of the normal distribution"
     ]
    },
    {
     "cell_type": "code",
     "collapsed": false,
     "input": [
      "x = np.array([ 1.00201077,  1.58251956,  0.94515919,  6.48778002,  1.47764604,\n",
      "        5.18847071,  4.21988095,  2.85971522,  3.40044437,  3.74907745,\n",
      "        1.18065796,  3.74748775,  3.27328568,  3.19374927,  8.0726155 ,\n",
      "        0.90326139,  2.34460034,  2.14199217,  3.27446744,  3.58872357,\n",
      "        1.20611533,  2.16594393,  5.56610242,  4.66479977,  2.3573932 ])\n",
      "_ = plt.hist(x, bins=10)"
     ],
     "language": "python",
     "metadata": {},
     "outputs": [
      {
       "metadata": {},
       "output_type": "display_data",
       "png": "[encoded data removed]",
       "text": [
        "<matplotlib.figure.Figure at 0x107da3550>"
       ]
      }
     ],
     "prompt_number": 2
    },
    {
     "cell_type": "markdown",
     "metadata": {},
     "source": [
      "### Fitting data to probability distributions\n",
      "\n",
      "We start with the problem of finding values for the parameters that provide the best fit between the model and the data, called point estimates. First, we need to define what we mean by \u2018best fit\u2019. There are two commonly used criteria:\n",
      "\n",
      "* **Method of moments** chooses the parameters so that the sample moments (typically the sample mean and variance) match the theoretical moments of our chosen distribution.\n",
      "* **Maximum likelihood** chooses the parameters to maximize the likelihood, which measures how likely it is to observe our given sample."
     ]
    },
    {
     "cell_type": "markdown",
     "metadata": {},
     "source": [
      "### Discrete Random Variables\n",
      "\n",
      "$$X = \\{0,1\\}$$\n",
      "\n",
      "$$Y = \\{\\ldots,-2,-1,0,1,2,\\ldots\\}$$\n",
      "\n",
      "**Probability Mass Function**: \n",
      "\n",
      "For discrete $X$,\n",
      "\n",
      "$$Pr(X=x) = f(x|\\theta)$$\n",
      "\n",
      "![Discrete variable](http://upload.wikimedia.org/wikipedia/commons/1/16/Poisson_pmf.svg)"
     ]
    },
    {
     "cell_type": "markdown",
     "metadata": {},
     "source": [
      "***e.g. Poisson distribution***\n",
      "\n",
      "The Poisson distribution models unbounded counts:\n",
      "\n",
      "<div style=\"font-size: 150%;\">  \n",
      "$$Pr(X=x)=\\frac{e^{-\\lambda}\\lambda^x}{x!}$$\n",
      "</div>\n",
      "\n",
      "* $X=\\{0,1,2,\\ldots\\}$\n",
      "* $\\lambda > 0$\n",
      "\n",
      "$$E(X) = \\text{Var}(X) = \\lambda$$"
     ]
    },
    {
     "cell_type": "markdown",
     "metadata": {},
     "source": [
      "### Continuous Random Variables\n",
      "\n",
      "$$X \\in [0,1]$$\n",
      "\n",
      "$$Y \\in (-\\infty, \\infty)$$\n",
      "\n",
      "**Probability Density Function**: \n",
      "\n",
      "For continuous $X$,\n",
      "\n",
      "$$Pr(x \\le X \\le x + dx) = f(x|\\theta)dx \\, \\text{ as } \\, dx \\rightarrow 0$$\n",
      "\n",
      "![Continuous variable](https://upload.wikimedia.org/wikipedia/commons/thumb/7/74/Normal_Distribution_PDF.svg/500px-Normal_Distribution_PDF.svg.png)"
     ]
    },
    {
     "cell_type": "markdown",
     "metadata": {},
     "source": [
      "***e.g. normal distribution***\n",
      "\n",
      "<div style=\"font-size: 150%;\">  \n",
      "$$f(x) = \\frac{1}{\\sqrt{2\\pi\\sigma^2}}\\exp\\left[-\\frac{(x-\\mu)^2}{2\\sigma^2}\\right]$$\n",
      "</div>\n",
      "\n",
      "* $X \\in \\mathbf{R}$\n",
      "* $\\mu \\in \\mathbf{R}$\n",
      "* $\\sigma>0$\n",
      "\n",
      "$$\\begin{align}E(X) &= \\mu \\cr\n",
      "\\text{Var}(X) &= \\sigma^2 \\end{align}$$"
     ]
    },
    {
     "cell_type": "markdown",
     "metadata": {},
     "source": [
      "### Example: Nashville Precipitation\n",
      "\n",
      "The dataset `nashville_precip.txt` contains [NOAA precipitation data for Nashville measured since 1871](http://bit.ly/nasvhville_precip_data). "
     ]
    },
    {
     "cell_type": "code",
     "collapsed": false,
     "input": [
      "precip = pd.read_table(\"data/nashville_precip.txt\", index_col=0, \n",
      "                       na_values='NA', delim_whitespace=True)\n",
      "precip.head()"
     ],
     "language": "python",
     "metadata": {},
     "outputs": [
      {
       "metadata": {},
       "output_type": "pyout",
       "prompt_number": 3,
       "text": [
        "       Jan   Feb   Mar    Apr   May   Jun   Jul   Aug   Sep   Oct   Nov   Dec\n",
        "Year                                                                         \n",
        "1871  2.76  4.58  5.01   4.13  3.30  2.98  1.58  2.36  0.95  1.31  2.13  1.65\n",
        "1872  2.32  2.11  3.14   5.91  3.09  5.17  6.10  1.65  4.50  1.58  2.25  2.38\n",
        "1873  2.96  7.14  4.11   3.59  6.31  4.20  4.63  2.36  1.81  4.28  4.36  5.94\n",
        "1874  5.22  9.23  5.36  11.84  1.49  2.87  2.65  3.52  3.12  2.63  6.12  4.19\n",
        "1875  6.15  3.06  8.14   4.22  1.73  5.63  8.12  1.60  3.79  1.25  5.46  4.30\n",
        "\n",
        "[5 rows x 12 columns]"
       ]
      }
     ],
     "prompt_number": 3
    },
    {
     "cell_type": "code",
     "collapsed": false,
     "input": [
      "_ = precip.hist(sharex=True, sharey=True, grid=False, figsize=(10,6))\n",
      "plt.tight_layout()"
     ],
     "language": "python",
     "metadata": {},
     "outputs": [
      {
       "metadata": {},
       "output_type": "display_data",
       "png": "[encoded data removed]",
       "text": [
        "<matplotlib.figure.Figure at 0x107dcd050>"
       ]
      }
     ],
     "prompt_number": 4
    },
    {
     "cell_type": "markdown",
     "metadata": {},
     "source": [
      "The first step is recognixing what sort of distribution to fit our data to. A couple of observations:\n",
      "\n",
      "1. The data are skewed, with a longer tail to the right than to the left\n",
      "2. The data are positive-valued, since they are measuring rainfall\n",
      "3. The data are continuous\n",
      "\n",
      "The **gamma distribution** is often a good fit to aggregated rainfall data, and will be our candidate distribution in this case.\n",
      "\n",
      "<div style=\"font-size: 150%;\">  \n",
      "$$x \\sim \\text{Gamma}(\\alpha, \\beta) = \\frac{\\beta^{\\alpha}x^{\\alpha-1}e^{-\\beta x}}{\\Gamma(\\alpha)}$$\n",
      "</div>\n",
      "\n",
      "![gamma](http://upload.wikimedia.org/wikipedia/commons/thumb/e/e6/Gamma_distribution_pdf.svg/500px-Gamma_distribution_pdf.svg.png)"
     ]
    },
    {
     "cell_type": "markdown",
     "metadata": {},
     "source": [
      "The ***method of moments*** simply assigns the empirical mean and variance to their theoretical counterparts, so that we can solve for the parameters.\n",
      "\n",
      "So, for the gamma distribution, the mean and variance are:\n",
      "\n",
      "<div style=\"font-size: 150%;\">  \n",
      "$$ \\hat{\\mu} = \\bar{X} = \\alpha \\beta $$\n",
      "$$ \\hat{\\sigma}^2 = S^2 = \\alpha \\beta^2 $$\n",
      "</div>"
     ]
    },
    {
     "cell_type": "code",
     "collapsed": false,
     "input": [
      "from IPython.display import IFrame\n",
      "IFrame('http://en.wikipedia.org/wiki/Gamma_distribution?useformat=mobile', width=600, height=350)"
     ],
     "language": "python",
     "metadata": {},
     "outputs": [
      {
       "html": [
        "\n",
        "        <iframe\n",
        "            width=\"600\"\n",
        "            height=350\"\n",
        "            src=\"http://en.wikipedia.org/wiki/Gamma_distribution?useformat=mobile\"\n",
        "            frameborder=\"0\"\n",
        "            allowfullscreen\n",
        "        ></iframe>\n",
        "        "
       ],
       "metadata": {},
       "output_type": "pyout",
       "prompt_number": 5,
       "text": [
        "<IPython.lib.display.IFrame at 0x1080d1450>"
       ]
      }
     ],
     "prompt_number": 5
    },
    {
     "cell_type": "markdown",
     "metadata": {},
     "source": [
      "So, if we solve for these parameters, we can use a gamma distribution to describe our data:\n",
      "\n",
      "<div style=\"font-size: 150%;\">  \n",
      "$$ \\alpha = \\frac{\\bar{X}^2}{S^2}, \\, \\beta = \\frac{S^2}{\\bar{X}} $$\n",
      "</div>\n",
      "\n",
      "Let's deal with the missing value in the October data."
     ]
    },
    {
     "cell_type": "code",
     "collapsed": false,
     "input": [
      "precip.Oct.ix[1960:1970]"
     ],
     "language": "python",
     "metadata": {},
     "outputs": [
      {
       "metadata": {},
       "output_type": "pyout",
       "prompt_number": 6,
       "text": [
        "Year\n",
        "1960    1.38\n",
        "1961    1.12\n",
        "1962    2.29\n",
        "1963     NaN\n",
        "1964    1.83\n",
        "1965    0.57\n",
        "1966    2.50\n",
        "1967    1.57\n",
        "1968    3.92\n",
        "1969    2.01\n",
        "1970    2.94\n",
        "Name: Oct, dtype: float64"
       ]
      }
     ],
     "prompt_number": 6
    },
    {
     "cell_type": "markdown",
     "metadata": {},
     "source": [
      "Given what we are trying to do, it is most sensible to fill in the missing value with the average of the available values."
     ]
    },
    {
     "cell_type": "code",
     "collapsed": false,
     "input": [
      "precip.fillna(value={'Oct': precip.Oct.mean()}, inplace=True)"
     ],
     "language": "python",
     "metadata": {},
     "outputs": [
      {
       "metadata": {},
       "output_type": "pyout",
       "prompt_number": 7,
       "text": [
        "        Jan    Feb    Mar    Apr   May   Jun   Jul   Aug   Sep   Oct   Nov  \\\n",
        "Year                                                                         \n",
        "1871   2.76   4.58   5.01   4.13  3.30  2.98  1.58  2.36  0.95  1.31  2.13   \n",
        "1872   2.32   2.11   3.14   5.91  3.09  5.17  6.10  1.65  4.50  1.58  2.25   \n",
        "1873   2.96   7.14   4.11   3.59  6.31  4.20  4.63  2.36  1.81  4.28  4.36   \n",
        "1874   5.22   9.23   5.36  11.84  1.49  2.87  2.65  3.52  3.12  2.63  6.12   \n",
        "1875   6.15   3.06   8.14   4.22  1.73  5.63  8.12  1.60  3.79  1.25  5.46   \n",
        "1876   6.41   2.22   5.28   3.62  3.40  5.65  7.15  5.77  2.52  2.68  1.26   \n",
        "1877   4.05   1.06   4.98   9.47  1.25  6.02  3.25  4.16  5.40  2.61  4.93   \n",
        "1878   3.34   2.10   3.48   6.88  2.33  3.28  9.43  5.02  1.28  2.17  3.20   \n",
        "1879   6.32   3.13   3.81   2.88  2.88  2.50  8.47  4.62  5.18  2.90  5.85   \n",
        "1880   3.74  12.37   8.16   5.26  4.13  3.97  5.69  2.22  5.39  7.24  5.77   \n",
        "1881   3.54   5.48   2.79   5.12  3.67  3.70  0.86  1.81  6.57  4.80  4.89   \n",
        "1882  14.51   8.61   9.38   3.59  7.38  2.54  4.06  5.54  1.61  1.11  3.60   \n",
        "1883   3.76   7.90   3.98   9.12  4.82  3.82  4.94  4.47  2.23  5.27  3.11   \n",
        "1884   7.20   8.18   8.89   3.51  3.58  6.53  3.18  2.81  2.36  2.43  1.57   \n",
        "1885   6.29   2.00   2.33   3.75  4.36  3.72  5.26  1.02  5.60  2.99  2.73   \n",
        "1886   5.18   3.82   4.76   2.36  2.10  7.69  1.90  5.50  3.68  0.51  5.76   \n",
        "1887   5.13   8.47   3.36   2.67  3.43  2.31  3.77  2.89  6.85  1.92  2.29   \n",
        "1888   6.29   3.78   6.46   4.18  2.97  4.68  2.36  7.03  3.82  2.82  4.33   \n",
        "1889   3.83   1.84   2.47   2.83  5.30  5.33  2.74  1.57  6.81  1.54  6.88   \n",
        "1890   8.10  10.95   8.64   3.84  4.16  2.23  0.46  6.59  5.86  3.01  2.01   \n",
        "1891   6.15   6.96  10.31   2.24  2.39  6.50  1.49  3.72  1.25  0.84  6.71   \n",
        "1892   2.81   2.73   4.10   7.45  4.03  5.01  5.13  3.39  4.78  0.25  3.91   \n",
        "1893   1.27   4.88   3.37   4.11  7.31  4.74  2.12  1.92  6.43  3.68  2.97   \n",
        "1894   4.28   8.65   2.69   4.05  2.53  3.55  5.45  2.43  3.07  0.53  1.92   \n",
        "1895   5.71   0.98   5.09   3.07  2.05  2.90  7.14  1.40  6.69  1.57  2.14   \n",
        "        ...    ...    ...    ...   ...   ...   ...   ...   ...   ...   ...   \n",
        "\n",
        "       Dec  \n",
        "Year        \n",
        "1871  1.65  \n",
        "1872  2.38  \n",
        "1873  5.94  \n",
        "1874  4.19  \n",
        "1875  4.30  \n",
        "1876  0.95  \n",
        "1877  2.49  \n",
        "1878  6.04  \n",
        "1879  9.15  \n",
        "1880  3.32  \n",
        "1881  4.85  \n",
        "1882  1.52  \n",
        "1883  4.97  \n",
        "1884  3.78  \n",
        "1885  2.90  \n",
        "1886  1.48  \n",
        "1887  5.31  \n",
        "1888  1.77  \n",
        "1889  1.17  \n",
        "1890  4.12  \n",
        "1891  4.26  \n",
        "1892  6.43  \n",
        "1893  3.50  \n",
        "1894  2.81  \n",
        "1895  4.09  \n",
        "       ...  \n",
        "\n",
        "[141 rows x 12 columns]"
       ]
      }
     ],
     "prompt_number": 7
    },
    {
     "cell_type": "markdown",
     "metadata": {},
     "source": [
      "Now, let's calculate the sample moments of interest, the means and variances by month:"
     ]
    },
    {
     "cell_type": "code",
     "collapsed": false,
     "input": [
      "precip_mean = precip.mean()\n",
      "precip_mean"
     ],
     "language": "python",
     "metadata": {},
     "outputs": [
      {
       "metadata": {},
       "output_type": "pyout",
       "prompt_number": 8,
       "text": [
        "Jan    4.523688\n",
        "Feb    4.097801\n",
        "Mar    4.977589\n",
        "Apr    4.204468\n",
        "May    4.325674\n",
        "Jun    3.873475\n",
        "Jul    3.895461\n",
        "Aug    3.367305\n",
        "Sep    3.377660\n",
        "Oct    2.610500\n",
        "Nov    3.685887\n",
        "Dec    4.176241\n",
        "dtype: float64"
       ]
      }
     ],
     "prompt_number": 8
    },
    {
     "cell_type": "code",
     "collapsed": false,
     "input": [
      "precip_var = precip.var()\n",
      "precip_var"
     ],
     "language": "python",
     "metadata": {},
     "outputs": [
      {
       "output_type": "stream",
       "stream": "stdout",
       "text": [
        "The history saving thread hit an unexpected error (OperationalError('disk I/O error',)).History will not be written to the database.\n"
       ]
      },
      {
       "metadata": {},
       "output_type": "pyout",
       "prompt_number": 9,
       "text": [
        "Jan    6.928862\n",
        "Feb    5.516660\n",
        "Mar    5.365444\n",
        "Apr    4.117096\n",
        "May    5.306409\n",
        "Jun    5.033206\n",
        "Jul    3.777012\n",
        "Aug    3.779876\n",
        "Sep    4.940099\n",
        "Oct    2.741659\n",
        "Nov    3.679274\n",
        "Dec    5.418022\n",
        "dtype: float64"
       ]
      }
     ],
     "prompt_number": 9
    },
    {
     "cell_type": "markdown",
     "metadata": {},
     "source": [
      "We then use these moments to estimate $\\alpha$ and $\\beta$ for each month:"
     ]
    },
    {
     "cell_type": "code",
     "collapsed": false,
     "input": [
      "alpha_mom = precip_mean ** 2 / precip_var\n",
      "beta_mom = precip_var / precip_mean"
     ],
     "language": "python",
     "metadata": {},
     "outputs": [],
     "prompt_number": 10
    },
    {
     "cell_type": "code",
     "collapsed": false,
     "input": [
      "estimates = pd.DataFrame({'alpha_mom': alpha_mom, 'beta_mom': beta_mom})\n",
      "estimates"
     ],
     "language": "python",
     "metadata": {},
     "outputs": [
      {
       "metadata": {},
       "output_type": "pyout",
       "prompt_number": 11,
       "text": [
        "     alpha_mom  beta_mom\n",
        "Jan   2.953407  1.531684\n",
        "Feb   3.043866  1.346249\n",
        "Mar   4.617770  1.077920\n",
        "Apr   4.293694  0.979219\n",
        "May   3.526199  1.226724\n",
        "Jun   2.980965  1.299403\n",
        "Jul   4.017624  0.969593\n",
        "Aug   2.999766  1.122522\n",
        "Sep   2.309383  1.462581\n",
        "Oct   2.485616  1.050243\n",
        "Nov   3.692511  0.998206\n",
        "Dec   3.219070  1.297344\n",
        "\n",
        "[12 rows x 2 columns]"
       ]
      }
     ],
     "prompt_number": 11
    },
    {
     "cell_type": "markdown",
     "metadata": {},
     "source": [
      "We can use the `gamma.pdf` function in `scipy.stats.distributions` to plot the ditribtuions implied by the calculated alphas and betas. For example, here is January:"
     ]
    },
    {
     "cell_type": "code",
     "collapsed": false,
     "input": [
      "from scipy.stats import gamma\n",
      "\n",
      "xvals = np.linspace(0, 10)\n",
      "yvals = gamma.pdf(xvals, alpha_mom[0], beta_mom[0])\n",
      "precip.Jan.hist(normed=True, bins=20)\n",
      "plt.plot(xvals, yvals)"
     ],
     "language": "python",
     "metadata": {},
     "outputs": [
      {
       "metadata": {},
       "output_type": "pyout",
       "prompt_number": 12,
       "text": [
        "[<matplotlib.lines.Line2D at 0x105d98fd0>]"
       ]
      },
      {
       "metadata": {},
       "output_type": "display_data",
       "png": "[encoded data removed]",
       "text": [
        "<matplotlib.figure.Figure at 0x107f98e50>"
       ]
      }
     ],
     "prompt_number": 12
    },
    {
     "cell_type": "markdown",
     "metadata": {},
     "source": [
      "Looping over all months, we can create a grid of plots for the distribution of rainfall, using the gamma distribution:"
     ]
    },
    {
     "cell_type": "code",
     "collapsed": false,
     "input": [
      "axs = precip.hist(normed=True, figsize=(12, 8), sharex=True, sharey=True, bins=15, grid=False)\n",
      "\n",
      "for ax in axs.ravel():\n",
      "    \n",
      "    # Get month\n",
      "    m = ax.get_title()\n",
      "    \n",
      "    # Plot fitted distribution\n",
      "    x = np.linspace(*ax.get_xlim())\n",
      "    ax.plot(x, gamma.pdf(x, alpha_mom[m], beta_mom[m]))\n",
      "    \n",
      "    # Annotate with parameter estimates\n",
      "    label = 'alpha = {0:.2f}\\nbeta = {1:.2f}'.format(alpha_mom[m], beta_mom[m])\n",
      "    ax.annotate(label, xy=(10, 0.2))\n",
      "    \n",
      "plt.tight_layout()"
     ],
     "language": "python",
     "metadata": {},
     "outputs": [
      {
       "metadata": {},
       "output_type": "display_data",
       "png": "[encoded data removed]",
       "text": [
        "<matplotlib.figure.Figure at 0x107deed50>"
       ]
      }
     ],
     "prompt_number": 13
    },
    {
     "cell_type": "markdown",
     "metadata": {},
     "source": [
      "Maximum Likelihood\n",
      "==================\n",
      "\n",
      "**Maximum likelihood** (ML) fitting is usually more work than the method of moments, but it is preferred as the resulting estimator is known to have good theoretical properties. \n",
      "\n",
      "There is a ton of theory regarding ML. We will restrict ourselves to the mechanics here.\n",
      "\n",
      "Say we have some data $y = y_1,y_2,\\ldots,y_n$ that is distributed according to some distribution:\n",
      "\n",
      "<div style=\"font-size: 120%;\">  \n",
      "$$Pr(Y_i=y_i | \\theta)$$\n",
      "</div>"
     ]
    },
    {
     "cell_type": "markdown",
     "metadata": {},
     "source": [
      "Here, for example, is a **Poisson distribution** that describes the distribution of some discrete variables, typically *counts*: "
     ]
    },
    {
     "cell_type": "code",
     "collapsed": false,
     "input": [
      "y = np.random.poisson(5, size=100)\n",
      "plt.hist(y, bins=np.sqrt(len(y)), normed=True)\n",
      "plt.xlabel('y'); plt.ylabel('Pr(y)')"
     ],
     "language": "python",
     "metadata": {},
     "outputs": [
      {
       "metadata": {},
       "output_type": "pyout",
       "prompt_number": 14,
       "text": [
        "<matplotlib.text.Text at 0x1080809d0>"
       ]
      },
      {
       "metadata": {},
       "output_type": "display_data",
       "png": "[encoded data removed]",
       "text": [
        "<matplotlib.figure.Figure at 0x107f98750>"
       ]
      }
     ],
     "prompt_number": 14
    },
    {
     "cell_type": "markdown",
     "metadata": {},
     "source": [
      "The product $\\prod_{i=1}^n Pr(y_i | \\theta)$ gives us a measure of how **likely** it is to observe the set of values $y_1,\\ldots,y_n$ given the parameters $\\theta$. Maximum likelihood fitting consists of choosing the appropriate function $l= Pr(Y|\\theta)$ to maximize for a given set of observations. We call this function the *likelihood function*, because it is a measure of how likely the observations are if the model is true.\n",
      "\n",
      "> Given these data, how likely is this model?"
     ]
    },
    {
     "cell_type": "markdown",
     "metadata": {},
     "source": [
      "In the above model, the data were drawn from a Poisson distribution with parameter $\\lambda =5$.\n",
      "\n",
      "$$L(y|\\lambda=5) = \\frac{e^{-5} 5^y}{y!}$$\n",
      "\n",
      "So, for any given value of $y$, we can calculate its likelihood:"
     ]
    },
    {
     "cell_type": "code",
     "collapsed": false,
     "input": [
      "poisson_like = lambda x, lam: np.exp(-lam) * (lam**x) / (np.arange(x)+1).prod()\n",
      "\n",
      "lam = 6\n",
      "value = 10\n",
      "poisson_like(value, lam)"
     ],
     "language": "python",
     "metadata": {},
     "outputs": [
      {
       "metadata": {},
       "output_type": "pyout",
       "prompt_number": 15,
       "text": [
        "0.041303093412337726"
       ]
      }
     ],
     "prompt_number": 15
    },
    {
     "cell_type": "code",
     "collapsed": false,
     "input": [
      "np.sum(poisson_like(yi, lam) for yi in y)"
     ],
     "language": "python",
     "metadata": {},
     "outputs": [
      {
       "metadata": {},
       "output_type": "pyout",
       "prompt_number": 16,
       "text": [
        "12.681664407577044"
       ]
      }
     ],
     "prompt_number": 16
    },
    {
     "cell_type": "code",
     "collapsed": false,
     "input": [
      "lam = 8\n",
      "np.sum(poisson_like(yi, lam) for yi in y)"
     ],
     "language": "python",
     "metadata": {},
     "outputs": [
      {
       "metadata": {},
       "output_type": "pyout",
       "prompt_number": 17,
       "text": [
        "8.058131431782682"
       ]
      }
     ],
     "prompt_number": 17
    },
    {
     "cell_type": "markdown",
     "metadata": {},
     "source": [
      "We can plot the likelihood function for any value of the parameter(s):"
     ]
    },
    {
     "cell_type": "code",
     "collapsed": false,
     "input": [
      "lambdas = np.linspace(0,15)\n",
      "x = 5\n",
      "plt.plot(lambdas, [poisson_like(x, l) for l in lambdas])\n",
      "plt.xlabel('$\\lambda$')\n",
      "plt.ylabel('L($\\lambda$|x={0})'.format(x));"
     ],
     "language": "python",
     "metadata": {},
     "outputs": [
      {
       "metadata": {},
       "output_type": "display_data",
       "png": "[encoded data removed]",
       "text": [
        "<matplotlib.figure.Figure at 0x108284d90>"
       ]
      }
     ],
     "prompt_number": 18
    },
    {
     "cell_type": "markdown",
     "metadata": {},
     "source": [
      "How is the likelihood function different than the probability distribution (or mass) function? The likelihood is a function of the parameter(s) *given the data*, whereas the PDF returns the probability of data given a particular parameter value. Here is the PMF of the Poisson for $\\lambda=5$."
     ]
    },
    {
     "cell_type": "code",
     "collapsed": false,
     "input": [
      "lam = 5\n",
      "xvals = np.arange(15)\n",
      "yvals = [poisson_like(x, lam) for x in xvals]\n",
      "plt.bar(xvals, yvals)\n",
      "plt.xlabel('x')\n",
      "plt.ylabel('Pr(X|$\\lambda$=5)');"
     ],
     "language": "python",
     "metadata": {},
     "outputs": [
      {
       "metadata": {},
       "output_type": "display_data",
       "png": "[encoded data removed]",
       "text": [
        "<matplotlib.figure.Figure at 0x107f1c850>"
       ]
      }
     ],
     "prompt_number": 19
    },
    {
     "cell_type": "markdown",
     "metadata": {},
     "source": [
      "Why are we interested in the likelihood function? \n",
      "\n",
      "A reasonable estimate of the true, unknown value for the parameter is one which **maximizes the likelihood function**. So, inference is reduced to an optimization problem."
     ]
    },
    {
     "cell_type": "markdown",
     "metadata": {},
     "source": [
      "Going back to the rainfall data, if we are using a gamma distribution we need to maximize:\n",
      "\n",
      "$$\\begin{align}l(\\alpha,\\beta) &= \\sum_{i=1}^n \\log[\\beta^{\\alpha} x^{\\alpha-1} e^{-x/\\beta}\\Gamma(\\alpha)^{-1}] \\cr \n",
      "&= n[(\\alpha-1)\\overline{\\log(x)} - \\bar{x}\\beta + \\alpha\\log(\\beta) - \\log\\Gamma(\\alpha)]\\end{align}$$\n",
      "\n",
      "(*Its usually easier to work in the log scale*)\n",
      "\n",
      "where $n = 2012 \u2212 1871 = 141$ and the bar indicates an average over all *i*. We choose $\\alpha$ and $\\beta$ to maximize $l(\\alpha,\\beta)$.\n",
      "\n",
      "Notice $l$ is infinite if any $x$ is zero. We do not have any zeros, but we do have an NA value for one of the October data, which we dealt with above."
     ]
    },
    {
     "cell_type": "markdown",
     "metadata": {},
     "source": [
      "### Finding the MLE\n",
      "\n",
      "To find the maximum of any function, we typically take the *derivative* with respect to the variable to be maximized, set it to zero and solve for that variable. \n",
      "\n",
      "$$\\frac{\\partial l(\\alpha,\\beta)}{\\partial \\beta} = n\\left(\\frac{\\alpha}{\\beta} - \\bar{x}\\right) = 0$$\n",
      "\n",
      "Which can be solved as $\\beta = \\alpha/\\bar{x}$. However, plugging this into the derivative with respect to $\\alpha$ yields:\n",
      "\n",
      "$$\\frac{\\partial l(\\alpha,\\beta)}{\\partial \\alpha} = \\log(\\alpha) + \\overline{\\log(x)} - \\log(\\bar{x}) - \\frac{\\Gamma(\\alpha)'}{\\Gamma(\\alpha)} = 0$$\n",
      "\n",
      "This has no closed form solution. We must use ***numerical optimization***!"
     ]
    },
    {
     "cell_type": "markdown",
     "metadata": {},
     "source": [
      "Numerical optimization alogarithms take an initial \"guess\" at the solution, and iteratively improve the guess until it gets \"close enough\" to the answer.\n",
      "\n",
      "Here, we will use Newton-Raphson algorithm:\n",
      "\n",
      "<div style=\"font-size: 120%;\">  \n",
      "$$x_{n+1} = x_n - \\frac{f(x_n)}{f'(x_n)}$$\n",
      "</div>"
     ]
    },
    {
     "cell_type": "markdown",
     "metadata": {},
     "source": [
      "Which is available to us via SciPy:"
     ]
    },
    {
     "cell_type": "code",
     "collapsed": false,
     "input": [
      "from scipy.optimize import newton"
     ],
     "language": "python",
     "metadata": {},
     "outputs": [],
     "prompt_number": 20
    },
    {
     "cell_type": "markdown",
     "metadata": {},
     "source": [
      "Here is a graphical example of how Newton-Raphson converges on a solution, using an arbitrary function:"
     ]
    },
    {
     "cell_type": "code",
     "collapsed": false,
     "input": [
      "# some function\n",
      "func = lambda x: 3./(1 + 400*np.exp(-2*x)) - 1\n",
      "xvals = np.linspace(0, 6)\n",
      "plt.plot(xvals, func(xvals))\n",
      "plt.text(5.3, 2.1, '$f(x)$', fontsize=16)\n",
      "\n",
      "# zero line\n",
      "plt.plot([0,6], [0,0], 'k-')\n",
      "\n",
      "# value at step n\n",
      "plt.plot([4,4], [0,func(4)], 'k:')\n",
      "plt.text(4, -.2, '$x_n$', fontsize=16)\n",
      "\n",
      "# tangent line\n",
      "tanline = lambda x: -0.858 + 0.626*x\n",
      "plt.plot(xvals, tanline(xvals), 'r--')\n",
      "\n",
      "# point at step n+1\n",
      "xprime = 0.858/0.626\n",
      "plt.plot([xprime, xprime], [tanline(xprime), func(xprime)], 'k:')\n",
      "plt.text(xprime+.1, -.2, '$x_{n+1}$', fontsize=16)"
     ],
     "language": "python",
     "metadata": {},
     "outputs": [
      {
       "metadata": {},
       "output_type": "pyout",
       "prompt_number": 21,
       "text": [
        "<matplotlib.text.Text at 0x103db3a10>"
       ]
      },
      {
       "metadata": {},
       "output_type": "display_data",
       "png": "[encoded data removed]",
       "text": [
        "<matplotlib.figure.Figure at 0x107fcacd0>"
       ]
      }
     ],
     "prompt_number": 21
    },
    {
     "cell_type": "markdown",
     "metadata": {},
     "source": [
      "To apply the Newton-Raphson algorithm, we need a function that returns a vector containing the **first and second derivatives** of the function with respect to the variable of interest. In our case, this is:"
     ]
    },
    {
     "cell_type": "code",
     "collapsed": false,
     "input": [
      "from scipy.special import psi, polygamma\n",
      "\n",
      "dlgamma = lambda m, log_mean, mean_log: np.log(m) - psi(m) - log_mean + mean_log\n",
      "dl2gamma = lambda m, *args: 1./m - polygamma(1, m)"
     ],
     "language": "python",
     "metadata": {},
     "outputs": [],
     "prompt_number": 22
    },
    {
     "cell_type": "markdown",
     "metadata": {},
     "source": [
      "where `log_mean` and `mean_log` are $\\log{\\bar{x}}$ and $\\overline{\\log(x)}$, respectively. `psi` and `polygamma` are complex functions of the Gamma function that result when you take first and second derivatives of that function."
     ]
    },
    {
     "cell_type": "code",
     "collapsed": false,
     "input": [
      "# Calculate statistics\n",
      "log_mean = precip.mean().apply(np.log)\n",
      "mean_log = precip.apply(np.log).mean()"
     ],
     "language": "python",
     "metadata": {},
     "outputs": [],
     "prompt_number": 23
    },
    {
     "cell_type": "markdown",
     "metadata": {},
     "source": [
      "Time to optimize!"
     ]
    },
    {
     "cell_type": "code",
     "collapsed": false,
     "input": [
      "# Alpha MLE for December\n",
      "alpha_mle = newton(dlgamma, 2, dl2gamma, args=(log_mean[-1], mean_log[-1]))\n",
      "alpha_mle"
     ],
     "language": "python",
     "metadata": {},
     "outputs": [
      {
       "metadata": {},
       "output_type": "pyout",
       "prompt_number": 24,
       "text": [
        "3.5189679152399647"
       ]
      }
     ],
     "prompt_number": 24
    },
    {
     "cell_type": "markdown",
     "metadata": {},
     "source": [
      "And now plug this back into the solution for beta:\n",
      "\n",
      "<div style=\"font-size: 120%;\">  \n",
      "$$ \\beta  = \\frac{\\alpha}{\\bar{X}} $$\n",
      "</div>"
     ]
    },
    {
     "cell_type": "code",
     "collapsed": false,
     "input": [
      "beta_mle = alpha_mle/precip.mean()[-1]\n",
      "beta_mle"
     ],
     "language": "python",
     "metadata": {},
     "outputs": [
      {
       "metadata": {},
       "output_type": "pyout",
       "prompt_number": 25,
       "text": [
        "0.84261607548413797"
       ]
      }
     ],
     "prompt_number": 25
    },
    {
     "cell_type": "markdown",
     "metadata": {},
     "source": [
      "We can compare the fit of the estimates derived from MLE to those from the method of moments:"
     ]
    },
    {
     "cell_type": "code",
     "collapsed": false,
     "input": [
      "dec = precip.Dec\n",
      "dec.hist(normed=True, bins=10, grid=False)\n",
      "x = np.linspace(0, dec.max())\n",
      "plt.plot(x, gamma.pdf(x, alpha_mom[-1], beta_mom[-1]), 'm-')\n",
      "plt.plot(x, gamma.pdf(x, alpha_mle, beta_mle), 'r--')"
     ],
     "language": "python",
     "metadata": {},
     "outputs": [
      {
       "metadata": {},
       "output_type": "pyout",
       "prompt_number": 26,
       "text": [
        "[<matplotlib.lines.Line2D at 0x1082c0e90>]"
       ]
      },
      {
       "metadata": {},
       "output_type": "display_data",
       "png": "[encoded data removed]",
       "text": [
        "<matplotlib.figure.Figure at 0x107eb5c90>"
       ]
      }
     ],
     "prompt_number": 26
    },
    {
     "cell_type": "markdown",
     "metadata": {},
     "source": [
      "For some common distributions, SciPy includes methods for fitting via MLE:"
     ]
    },
    {
     "cell_type": "code",
     "collapsed": false,
     "input": [
      "from scipy.stats import gamma\n",
      "\n",
      "ahat, _, bhat = gamma.fit(precip.Dec, floc=0)\n",
      "ahat, 1./bhat"
     ],
     "language": "python",
     "metadata": {},
     "outputs": [
      {
       "metadata": {},
       "output_type": "pyout",
       "prompt_number": 27,
       "text": [
        "(3.5189679152399753, 0.84261607548414119)"
       ]
      }
     ],
     "prompt_number": 27
    },
    {
     "cell_type": "markdown",
     "metadata": {},
     "source": [
      "Note that SciPy's `gamma.fit` method fits a slightly different version of the gamma distribution, which has to be transformed to match ours."
     ]
    },
    {
     "cell_type": "markdown",
     "metadata": {},
     "source": [
      "### Kernel density estimates\n",
      "\n",
      "In some instances, we may not be interested in the parameters of a particular distribution of data, but just a smoothed representation of the data at hand. In this case, we can estimate the disribution *non-parametrically* (i.e. making no assumptions about the form of the underlying distribution) using kernel density estimation."
     ]
    },
    {
     "cell_type": "code",
     "collapsed": false,
     "input": [
      "# Some random data\n",
      "y = np.random.random(15) * 10\n",
      "y"
     ],
     "language": "python",
     "metadata": {},
     "outputs": [
      {
       "metadata": {},
       "output_type": "pyout",
       "prompt_number": 28,
       "text": [
        "array([ 3.72458625,  8.02504424,  2.5152199 ,  1.15249687,  3.69592197,\n",
        "        4.81974995,  7.21932052,  4.78104845,  2.67680421,  9.90455954,\n",
        "        8.162251  ,  7.12880674,  6.79736262,  5.98943549,  7.99250998])"
       ]
      }
     ],
     "prompt_number": 28
    },
    {
     "cell_type": "code",
     "collapsed": false,
     "input": [
      "from scipy.stats import norm\n",
      "\n",
      "# Create an array of x-valuese``````````````````````````````\n",
      "x = np.linspace(y.min()-1, y.max()+1, 100)\n",
      "\n",
      "# Smoothing parameter\n",
      "s = 0.4\n",
      "\n",
      "# Calculate the kernels\n",
      "kernels = np.transpose([norm.pdf(x, yi, s) for yi in y])\n",
      "plt.plot(x, kernels, 'k:')\n",
      "plt.plot(x, kernels.sum(1))\n",
      "plt.plot(y, np.zeros(len(y)), 'ro', ms=10)"
     ],
     "language": "python",
     "metadata": {},
     "outputs": [
      {
       "metadata": {},
       "output_type": "pyout",
       "prompt_number": 29,
       "text": [
        "[<matplotlib.lines.Line2D at 0x1088d5150>]"
       ]
      },
      {
       "metadata": {},
       "output_type": "display_data",
       "png": "[encoded data removed]",
       "text": [
        "<matplotlib.figure.Figure at 0x1087de410>"
       ]
      }
     ],
     "prompt_number": 29
    },
    {
     "cell_type": "markdown",
     "metadata": {},
     "source": [
      "SciPy implements a Gaussian KDE that automatically chooses an appropriate bandwidth. Let's create a bi-modal distribution of data that is not easily summarized by a parametric distribution:"
     ]
    },
    {
     "cell_type": "code",
     "collapsed": false,
     "input": [
      "# Create a bi-modal distribution with a mixture of Normals.\n",
      "x1 = np.random.normal(0, 2, 50)\n",
      "x2 = np.random.normal(4, 1, 50)\n",
      "\n",
      "# Append by row\n",
      "x = np.r_[x1, x2]"
     ],
     "language": "python",
     "metadata": {},
     "outputs": [],
     "prompt_number": 30
    },
    {
     "cell_type": "code",
     "collapsed": false,
     "input": [
      "plt.hist(x, bins=10, normed=True)"
     ],
     "language": "python",
     "metadata": {},
     "outputs": [
      {
       "metadata": {},
       "output_type": "pyout",
       "prompt_number": 31,
       "text": [
        "(array([ 0.00940678,  0.02822033,  0.05644066,  0.13169488,  0.09406777,\n",
        "         0.1222881 ,  0.1222881 ,  0.23516943,  0.08466099,  0.05644066]),\n",
        " array([-4.36396175, -3.30089839, -2.23783504, -1.17477168, -0.11170832,\n",
        "         0.95135503,  2.01441839,  3.07748174,  4.1405451 ,  5.20360846,\n",
        "         6.26667181]),\n",
        " <a list of 10 Patch objects>)"
       ]
      },
      {
       "metadata": {},
       "output_type": "display_data",
       "png": "[encoded data removed]",
       "text": [
        "<matplotlib.figure.Figure at 0x1087e1050>"
       ]
      }
     ],
     "prompt_number": 31
    },
    {
     "cell_type": "code",
     "collapsed": false,
     "input": [
      "from scipy.stats import kde\n",
      "\n",
      "density = kde.gaussian_kde(x)\n",
      "xgrid = np.linspace(x.min(), x.max(), 100)\n",
      "plt.hist(x, bins=10, normed=True)\n",
      "plt.plot(xgrid, density(xgrid), 'r-')"
     ],
     "language": "python",
     "metadata": {},
     "outputs": [
      {
       "metadata": {},
       "output_type": "pyout",
       "prompt_number": 32,
       "text": [
        "[<matplotlib.lines.Line2D at 0x1088eb9d0>]"
       ]
      },
      {
       "metadata": {},
       "output_type": "display_data",
       "png": "[encoded data removed]",
       "text": [
        "<matplotlib.figure.Figure at 0x1089013d0>"
       ]
      }
     ],
     "prompt_number": 32
    },
    {
     "cell_type": "markdown",
     "metadata": {},
     "source": [
      "## Regression models\n",
      "\n",
      "A general, primary goal of many statistical data analysis tasks is to relate the influence of one variable on another. For example, we may wish to know how different medical interventions influence the incidence or duration of disease, or perhaps a how baseball player's performance varies as a function of age."
     ]
    },
    {
     "cell_type": "code",
     "collapsed": false,
     "input": [
      "x = np.array([2.2, 4.3, 5.1, 5.8, 6.4, 8.0])\n",
      "y = np.array([0.4, 10.1, 14.0, 10.9, 15.4, 18.5])\n",
      "plt.plot(x,y,'ro')"
     ],
     "language": "python",
     "metadata": {},
     "outputs": [
      {
       "metadata": {},
       "output_type": "pyout",
       "prompt_number": 33,
       "text": [
        "[<matplotlib.lines.Line2D at 0x108a6b1d0>]"
       ]
      },
      {
       "metadata": {},
       "output_type": "display_data",
       "png": "[encoded data removed]",
       "text": [
        "<matplotlib.figure.Figure at 0x108a47490>"
       ]
      }
     ],
     "prompt_number": 33
    },
    {
     "cell_type": "markdown",
     "metadata": {},
     "source": [
      "We can build a model to characterize the relationship between $X$ and $Y$, recognizing that additional factors other than $X$ (the ones we have measured or are interested in) may influence the response variable $Y$.\n",
      "\n",
      "<div style=\"font-size: 150%;\">  \n",
      "$y_i = f(x_i) + \\epsilon_i$\n",
      "</div>"
     ]
    },
    {
     "cell_type": "markdown",
     "metadata": {},
     "source": [
      "where $f$ is some function, for example a linear function:\n",
      "\n",
      "<div style=\"font-size: 150%;\">  \n",
      "$y_i = \\beta_0 + \\beta_1 x_i + \\epsilon_i$\n",
      "</div>\n",
      "\n",
      "and $\\epsilon_i$ accounts for the difference between the observed response $y_i$ and its prediction from the model $\\hat{y_i} = \\beta_0 + \\beta_1 x_i$. This is sometimes referred to as **process uncertainty**."
     ]
    },
    {
     "cell_type": "markdown",
     "metadata": {},
     "source": [
      "We would like to select $\\beta_0, \\beta_1$ so that the difference between the predictions and the observations is zero, but this is not usually possible. Instead, we choose a reasonable criterion: ***the smallest sum of the squared differences between $\\hat{y}$ and $y$***.\n",
      "\n",
      "<div style=\"font-size: 120%;\">  \n",
      "$$R^2 = \\sum_i (y_i - [\\beta_0 + \\beta_1 x_i])^2 = \\sum_i \\epsilon_i^2 $$  \n",
      "</div>\n",
      "\n",
      "Squaring serves two purposes: (1) to prevent positive and negative values from cancelling each other out and (2) to strongly penalize large deviations. Whether the latter is a good thing or not depends on the goals of the analysis.\n",
      "\n",
      "In other words, we will select the parameters that minimize the squared error of the model."
     ]
    },
    {
     "cell_type": "code",
     "collapsed": false,
     "input": [
      "ss = lambda theta, x, y: np.sum((y - theta[0] - theta[1]*x) ** 2)"
     ],
     "language": "python",
     "metadata": {},
     "outputs": [],
     "prompt_number": 34
    },
    {
     "cell_type": "code",
     "collapsed": false,
     "input": [
      "ss([0,1],x,y)"
     ],
     "language": "python",
     "metadata": {},
     "outputs": [
      {
       "metadata": {},
       "output_type": "pyout",
       "prompt_number": 35,
       "text": [
        "333.35000000000002"
       ]
      }
     ],
     "prompt_number": 35
    },
    {
     "cell_type": "code",
     "collapsed": false,
     "input": [
      "from scipy.optimize import fmin\n",
      "\n",
      "b0,b1 = fmin(ss, [0,1], args=(x,y))\n",
      "b0,b1"
     ],
     "language": "python",
     "metadata": {},
     "outputs": [
      {
       "output_type": "stream",
       "stream": "stdout",
       "text": [
        "Optimization terminated successfully.\n",
        "         Current function value: 21.375000\n",
        "         Iterations: 79\n",
        "         Function evaluations: 153\n"
       ]
      },
      {
       "metadata": {},
       "output_type": "pyout",
       "prompt_number": 36,
       "text": [
        "(-4.3500136038870876, 3.0000002915386412)"
       ]
      }
     ],
     "prompt_number": 36
    },
    {
     "cell_type": "code",
     "collapsed": false,
     "input": [
      "plt.plot(x, y, 'ro')\n",
      "plt.plot([0,10], [b0, b0+b1*10])"
     ],
     "language": "python",
     "metadata": {},
     "outputs": [
      {
       "metadata": {},
       "output_type": "pyout",
       "prompt_number": 37,
       "text": [
        "[<matplotlib.lines.Line2D at 0x108a6ff50>]"
       ]
      },
      {
       "metadata": {},
       "output_type": "display_data",
       "png": "[encoded data removed]",
       "text": [
        "<matplotlib.figure.Figure at 0x108a6fa10>"
       ]
      }
     ],
     "prompt_number": 37
    },
    {
     "cell_type": "code",
     "collapsed": false,
     "input": [
      "plt.plot(x, y, 'ro')\n",
      "plt.plot([0,10], [b0, b0+b1*10])\n",
      "for xi, yi in zip(x,y):\n",
      "    plt.plot([xi]*2, [yi, b0+b1*xi], 'k:')\n",
      "plt.xlim(2, 9); plt.ylim(0, 20)"
     ],
     "language": "python",
     "metadata": {},
     "outputs": [
      {
       "metadata": {},
       "output_type": "pyout",
       "prompt_number": 38,
       "text": [
        "(0, 20)"
       ]
      },
      {
       "metadata": {},
       "output_type": "display_data",
       "png": "[encoded data removed]",
       "text": [
        "<matplotlib.figure.Figure at 0x108b45050>"
       ]
      }
     ],
     "prompt_number": 38
    },
    {
     "cell_type": "markdown",
     "metadata": {},
     "source": [
      "Minimizing the sum of squares is not the only criterion we can use; it is just a very popular (and successful) one. For example, we can try to minimize the sum of absolute differences:"
     ]
    },
    {
     "cell_type": "code",
     "collapsed": false,
     "input": [
      "sabs = lambda theta, x, y: np.sum(np.abs(y - theta[0] - theta[1]*x))\n",
      "b0,b1 = fmin(sabs, [0,1], args=(x,y))\n",
      "print b0,b1\n",
      "plt.plot(x, y, 'ro')\n",
      "plt.plot([0,10], [b0, b0+b1*10])"
     ],
     "language": "python",
     "metadata": {},
     "outputs": [
      {
       "output_type": "stream",
       "stream": "stdout",
       "text": [
        "Optimization terminated successfully.\n",
        "         Current function value: 10.162463\n",
        "         Iterations: 39\n",
        "         Function evaluations: 77\n",
        "0.00157170444494 2.31231743181\n"
       ]
      },
      {
       "metadata": {},
       "output_type": "pyout",
       "prompt_number": 39,
       "text": [
        "[<matplotlib.lines.Line2D at 0x108a7a990>]"
       ]
      },
      {
       "metadata": {},
       "output_type": "display_data",
       "png": "[encoded data removed]",
       "text": [
        "<matplotlib.figure.Figure at 0x108a7a890>"
       ]
      }
     ],
     "prompt_number": 39
    },
    {
     "cell_type": "markdown",
     "metadata": {},
     "source": [
      "We are not restricted to a straight-line regression model; we can represent a curved relationship between our variables by introducing **polynomial** terms. For example, a cubic model:\n",
      "\n",
      "<div style=\"font-size: 150%;\">  \n",
      "$y_i = \\beta_0 + \\beta_1 x_i + \\beta_2 x_i^2 + \\epsilon_i$\n",
      "</div>"
     ]
    },
    {
     "cell_type": "code",
     "collapsed": false,
     "input": [
      "ss2 = lambda theta, x, y: np.sum((y - theta[0] - theta[1]*x - theta[2]*(x**2)) ** 2)\n",
      "b0,b1,b2 = fmin(ss2, [1,1,-1], args=(x,y))\n",
      "print b0,b1,b2\n",
      "plt.plot(x, y, 'ro')\n",
      "xvals = np.linspace(0, 10, 100)\n",
      "plt.plot(xvals, b0 + b1*xvals + b2*(xvals**2))"
     ],
     "language": "python",
     "metadata": {},
     "outputs": [
      {
       "output_type": "stream",
       "stream": "stdout",
       "text": [
        "Optimization terminated successfully.\n",
        "         Current function value: 14.001110\n",
        "         Iterations: 198\n",
        "         Function evaluations: 372\n",
        "-11.0748186039 6.0576975948 -0.302681057088\n"
       ]
      },
      {
       "metadata": {},
       "output_type": "pyout",
       "prompt_number": 40,
       "text": [
        "[<matplotlib.lines.Line2D at 0x108a3c290>]"
       ]
      },
      {
       "metadata": {},
       "output_type": "display_data",
       "png": "[encoded data removed]",
       "text": [
        "<matplotlib.figure.Figure at 0x108c1e310>"
       ]
      }
     ],
     "prompt_number": 40
    },
    {
     "cell_type": "markdown",
     "metadata": {},
     "source": [
      "Although polynomial model characterizes a nonlinear relationship, it is a linear problem in terms of estimation. That is, the regression model $f(y | x)$ is linear in the parameters.\n",
      "\n",
      "For some data, it may be reasonable to consider polynomials of order>2. For example, consider the relationship between the number of home runs a baseball player hits and the number of runs batted in (RBI) they accumulate; clearly, the relationship is positive, but we may not expect a linear relationship."
     ]
    },
    {
     "cell_type": "code",
     "collapsed": false,
     "input": [
      "ss3 = lambda theta, x, y: np.sum((y - theta[0] - theta[1]*x - theta[2]*(x**2) - theta[3]*(x**3)) ** 2)\n",
      "\n",
      "bb = pd.read_csv(\"data/baseball.csv\", index_col=0)\n",
      "plt.plot(bb.hr, bb.rbi, 'r.')\n",
      "b0,b1,b2,b3 = fmin(ss3, [0,1,-1,0], args=(bb.hr, bb.rbi))\n",
      "xvals = np.arange(40)\n",
      "plt.plot(xvals, b0 + b1*xvals + b2*(xvals**2) + b3*(xvals**3))"
     ],
     "language": "python",
     "metadata": {},
     "outputs": [
      {
       "output_type": "stream",
       "stream": "stdout",
       "text": [
        "Optimization terminated successfully.\n",
        "         Current function value: 4274.128398\n",
        "         Iterations: 230\n",
        "         Function evaluations: 407\n"
       ]
      },
      {
       "metadata": {},
       "output_type": "pyout",
       "prompt_number": 41,
       "text": [
        "[<matplotlib.lines.Line2D at 0x108b77690>]"
       ]
      },
      {
       "metadata": {},
       "output_type": "display_data",
       "png": "[encoded data removed]",
       "text": [
        "<matplotlib.figure.Figure at 0x108b77890>"
       ]
      }
     ],
     "prompt_number": 41
    },
    {
     "cell_type": "markdown",
     "metadata": {},
     "source": [
      "Of course, we need not fit least squares models by hand. The `statsmodels` package implements least squares models that allow for model fitting in a single line:"
     ]
    },
    {
     "cell_type": "code",
     "collapsed": false,
     "input": [
      "import statsmodels.api as sm\n",
      "\n",
      "straight_line = sm.OLS(y, sm.add_constant(x)).fit()\n",
      "straight_line.summary()"
     ],
     "language": "python",
     "metadata": {},
     "outputs": [
      {
       "html": [
        "<table class=\"simpletable\">\n",
        "<caption>OLS Regression Results</caption>\n",
        "<tr>\n",
        "  <th>Dep. Variable:</th>            <td>y</td>        <th>  R-squared:         </th> <td>   0.891</td>\n",
        "</tr>\n",
        "<tr>\n",
        "  <th>Model:</th>                   <td>OLS</td>       <th>  Adj. R-squared:    </th> <td>   0.864</td>\n",
        "</tr>\n",
        "<tr>\n",
        "  <th>Method:</th>             <td>Least Squares</td>  <th>  F-statistic:       </th> <td>   32.67</td>\n",
        "</tr>\n",
        "<tr>\n",
        "  <th>Date:</th>             <td>Sun, 23 Feb 2014</td> <th>  Prob (F-statistic):</th>  <td>0.00463</td>\n",
        "</tr>\n",
        "<tr>\n",
        "  <th>Time:</th>                 <td>10:40:26</td>     <th>  Log-Likelihood:    </th> <td> -12.325</td>\n",
        "</tr>\n",
        "<tr>\n",
        "  <th>No. Observations:</th>      <td>     6</td>      <th>  AIC:               </th> <td>   28.65</td>\n",
        "</tr>\n",
        "<tr>\n",
        "  <th>Df Residuals:</th>          <td>     4</td>      <th>  BIC:               </th> <td>   28.23</td>\n",
        "</tr>\n",
        "<tr>\n",
        "  <th>Df Model:</th>              <td>     1</td>      <th>                     </th>     <td> </td>   \n",
        "</tr>\n",
        "<tr>\n",
        "  <th>Covariance Type:</th>      <td>nonrobust</td>    <th>                     </th>     <td> </td>   \n",
        "</tr>\n",
        "</table>\n",
        "<table class=\"simpletable\">\n",
        "<tr>\n",
        "    <td></td>       <th>coef</th>     <th>std err</th>      <th>t</th>      <th>P>|t|</th> <th>[95.0% Conf. Int.]</th> \n",
        "</tr>\n",
        "<tr>\n",
        "  <th>const</th> <td>   -4.3500</td> <td>    2.937</td> <td>   -1.481</td> <td> 0.213</td> <td>  -12.505     3.805</td>\n",
        "</tr>\n",
        "<tr>\n",
        "  <th>x1</th>    <td>    3.0000</td> <td>    0.525</td> <td>    5.716</td> <td> 0.005</td> <td>    1.543     4.457</td>\n",
        "</tr>\n",
        "</table>\n",
        "<table class=\"simpletable\">\n",
        "<tr>\n",
        "  <th>Omnibus:</th>       <td>   nan</td> <th>  Durbin-Watson:     </th> <td>   2.387</td>\n",
        "</tr>\n",
        "<tr>\n",
        "  <th>Prob(Omnibus):</th> <td>   nan</td> <th>  Jarque-Bera (JB):  </th> <td>   0.570</td>\n",
        "</tr>\n",
        "<tr>\n",
        "  <th>Skew:</th>          <td> 0.359</td> <th>  Prob(JB):          </th> <td>   0.752</td>\n",
        "</tr>\n",
        "<tr>\n",
        "  <th>Kurtosis:</th>      <td> 1.671</td> <th>  Cond. No.          </th> <td>    17.9</td>\n",
        "</tr>\n",
        "</table>"
       ],
       "metadata": {},
       "output_type": "pyout",
       "prompt_number": 42,
       "text": [
        "<class 'statsmodels.iolib.summary.Summary'>\n",
        "\"\"\"\n",
        "                            OLS Regression Results                            \n",
        "==============================================================================\n",
        "Dep. Variable:                      y   R-squared:                       0.891\n",
        "Model:                            OLS   Adj. R-squared:                  0.864\n",
        "Method:                 Least Squares   F-statistic:                     32.67\n",
        "Date:                Sun, 23 Feb 2014   Prob (F-statistic):            0.00463\n",
        "Time:                        10:40:26   Log-Likelihood:                -12.325\n",
        "No. Observations:                   6   AIC:                             28.65\n",
        "Df Residuals:                       4   BIC:                             28.23\n",
        "Df Model:                           1                                         \n",
        "Covariance Type:            nonrobust                                         \n",
        "==============================================================================\n",
        "                 coef    std err          t      P>|t|      [95.0% Conf. Int.]\n",
        "------------------------------------------------------------------------------\n",
        "const         -4.3500      2.937     -1.481      0.213       -12.505     3.805\n",
        "x1             3.0000      0.525      5.716      0.005         1.543     4.457\n",
        "==============================================================================\n",
        "Omnibus:                          nan   Durbin-Watson:                   2.387\n",
        "Prob(Omnibus):                    nan   Jarque-Bera (JB):                0.570\n",
        "Skew:                           0.359   Prob(JB):                        0.752\n",
        "Kurtosis:                       1.671   Cond. No.                         17.9\n",
        "==============================================================================\n",
        "\n",
        "Warnings:\n",
        "[1] Standard Errors assume that the covariance matrix of the errors is correctly specified.\n",
        "\"\"\""
       ]
      }
     ],
     "prompt_number": 42
    },
    {
     "cell_type": "code",
     "collapsed": false,
     "input": [
      "from statsmodels.formula.api import ols as OLS\n",
      "\n",
      "data = pd.DataFrame(dict(x=x, y=y))\n",
      "cubic_fit = OLS('y ~ x + I(x**2)', data).fit()\n",
      "\n",
      "cubic_fit.summary()"
     ],
     "language": "python",
     "metadata": {},
     "outputs": [
      {
       "html": [
        "<table class=\"simpletable\">\n",
        "<caption>OLS Regression Results</caption>\n",
        "<tr>\n",
        "  <th>Dep. Variable:</th>            <td>y</td>        <th>  R-squared:         </th> <td>   0.929</td>\n",
        "</tr>\n",
        "<tr>\n",
        "  <th>Model:</th>                   <td>OLS</td>       <th>  Adj. R-squared:    </th> <td>   0.881</td>\n",
        "</tr>\n",
        "<tr>\n",
        "  <th>Method:</th>             <td>Least Squares</td>  <th>  F-statistic:       </th> <td>   19.50</td>\n",
        "</tr>\n",
        "<tr>\n",
        "  <th>Date:</th>             <td>Sun, 23 Feb 2014</td> <th>  Prob (F-statistic):</th>  <td>0.0191</td> \n",
        "</tr>\n",
        "<tr>\n",
        "  <th>Time:</th>                 <td>10:40:27</td>     <th>  Log-Likelihood:    </th> <td> -11.056</td>\n",
        "</tr>\n",
        "<tr>\n",
        "  <th>No. Observations:</th>      <td>     6</td>      <th>  AIC:               </th> <td>   28.11</td>\n",
        "</tr>\n",
        "<tr>\n",
        "  <th>Df Residuals:</th>          <td>     3</td>      <th>  BIC:               </th> <td>   27.49</td>\n",
        "</tr>\n",
        "<tr>\n",
        "  <th>Df Model:</th>              <td>     2</td>      <th>                     </th>     <td> </td>   \n",
        "</tr>\n",
        "<tr>\n",
        "  <th>Covariance Type:</th>      <td>nonrobust</td>    <th>                     </th>     <td> </td>   \n",
        "</tr>\n",
        "</table>\n",
        "<table class=\"simpletable\">\n",
        "<tr>\n",
        "      <td></td>         <th>coef</th>     <th>std err</th>      <th>t</th>      <th>P>|t|</th> <th>[95.0% Conf. Int.]</th> \n",
        "</tr>\n",
        "<tr>\n",
        "  <th>Intercept</th> <td>  -11.0748</td> <td>    6.013</td> <td>   -1.842</td> <td> 0.163</td> <td>  -30.211     8.062</td>\n",
        "</tr>\n",
        "<tr>\n",
        "  <th>x</th>         <td>    6.0577</td> <td>    2.482</td> <td>    2.441</td> <td> 0.092</td> <td>   -1.840    13.955</td>\n",
        "</tr>\n",
        "<tr>\n",
        "  <th>I(x ** 2)</th> <td>   -0.3027</td> <td>    0.241</td> <td>   -1.257</td> <td> 0.298</td> <td>   -1.069     0.464</td>\n",
        "</tr>\n",
        "</table>\n",
        "<table class=\"simpletable\">\n",
        "<tr>\n",
        "  <th>Omnibus:</th>       <td>   nan</td> <th>  Durbin-Watson:     </th> <td>   2.711</td>\n",
        "</tr>\n",
        "<tr>\n",
        "  <th>Prob(Omnibus):</th> <td>   nan</td> <th>  Jarque-Bera (JB):  </th> <td>   0.655</td>\n",
        "</tr>\n",
        "<tr>\n",
        "  <th>Skew:</th>          <td>-0.809</td> <th>  Prob(JB):          </th> <td>   0.721</td>\n",
        "</tr>\n",
        "<tr>\n",
        "  <th>Kurtosis:</th>      <td> 2.961</td> <th>  Cond. No.          </th> <td>    270.</td>\n",
        "</tr>\n",
        "</table>"
       ],
       "metadata": {},
       "output_type": "pyout",
       "prompt_number": 43,
       "text": [
        "<class 'statsmodels.iolib.summary.Summary'>\n",
        "\"\"\"\n",
        "                            OLS Regression Results                            \n",
        "==============================================================================\n",
        "Dep. Variable:                      y   R-squared:                       0.929\n",
        "Model:                            OLS   Adj. R-squared:                  0.881\n",
        "Method:                 Least Squares   F-statistic:                     19.50\n",
        "Date:                Sun, 23 Feb 2014   Prob (F-statistic):             0.0191\n",
        "Time:                        10:40:27   Log-Likelihood:                -11.056\n",
        "No. Observations:                   6   AIC:                             28.11\n",
        "Df Residuals:                       3   BIC:                             27.49\n",
        "Df Model:                           2                                         \n",
        "Covariance Type:            nonrobust                                         \n",
        "==============================================================================\n",
        "                 coef    std err          t      P>|t|      [95.0% Conf. Int.]\n",
        "------------------------------------------------------------------------------\n",
        "Intercept    -11.0748      6.013     -1.842      0.163       -30.211     8.062\n",
        "x              6.0577      2.482      2.441      0.092        -1.840    13.955\n",
        "I(x ** 2)     -0.3027      0.241     -1.257      0.298        -1.069     0.464\n",
        "==============================================================================\n",
        "Omnibus:                          nan   Durbin-Watson:                   2.711\n",
        "Prob(Omnibus):                    nan   Jarque-Bera (JB):                0.655\n",
        "Skew:                          -0.809   Prob(JB):                        0.721\n",
        "Kurtosis:                       2.961   Cond. No.                         270.\n",
        "==============================================================================\n",
        "\n",
        "Warnings:\n",
        "[1] Standard Errors assume that the covariance matrix of the errors is correctly specified.\n",
        "\"\"\""
       ]
      }
     ],
     "prompt_number": 43
    },
    {
     "cell_type": "markdown",
     "metadata": {},
     "source": [
      "## Model Selection\n",
      "\n",
      "How do we choose among competing models for a given dataset? More parameters are not necessarily better, from the standpoint of model fit. For example, fitting a 9-th order polynomial to the sample data from the above example certainly results in an overfit."
     ]
    },
    {
     "cell_type": "code",
     "collapsed": false,
     "input": [
      "def calc_poly(params, data):\n",
      "        x = np.c_[[data**i for i in range(len(params))]]\n",
      "        return np.dot(params, x)\n",
      "    \n",
      "ssp = lambda theta, x, y: np.sum((y - calc_poly(theta, x)) ** 2)\n",
      "betas = fmin(ssp, np.zeros(10), args=(x,y), maxiter=1e6)\n",
      "plt.plot(x, y, 'ro')\n",
      "xvals = np.linspace(0, max(x), 100)\n",
      "plt.plot(xvals, calc_poly(betas, xvals))"
     ],
     "language": "python",
     "metadata": {},
     "outputs": [
      {
       "output_type": "stream",
       "stream": "stdout",
       "text": [
        "Optimization terminated successfully.\n",
        "         Current function value: 7.015262\n",
        "         Iterations: 663\n",
        "         Function evaluations: 983\n"
       ]
      },
      {
       "metadata": {},
       "output_type": "pyout",
       "prompt_number": 44,
       "text": [
        "[<matplotlib.lines.Line2D at 0x108caa450>]"
       ]
      },
      {
       "metadata": {},
       "output_type": "display_data",
       "png": "[encoded data removed]",
       "text": [
        "<matplotlib.figure.Figure at 0x108c56bd0>"
       ]
      }
     ],
     "prompt_number": 44
    },
    {
     "cell_type": "markdown",
     "metadata": {},
     "source": [
      "One approach is to use an information-theoretic criterion to select the most appropriate model. For example **Akaike's Information Criterion (AIC)** balances the fit of the model (in terms of the likelihood) with the number of parameters required to achieve that fit. We can easily calculate AIC as:\n",
      "\n",
      "$$AIC = n \\log(\\hat{\\sigma}^2) + 2p$$\n",
      "\n",
      "where $p$ is the number of parameters in the model and $\\hat{\\sigma}^2 = RSS/(n-p-1)$.\n",
      "\n",
      "Notice that as the number of parameters increase, the residual sum of squares goes down, but the second term (a penalty) increases.\n",
      "\n",
      "To apply AIC to model selection, we choose the model that has the **lowest** AIC value."
     ]
    },
    {
     "cell_type": "code",
     "collapsed": false,
     "input": [
      "n = len(x)\n",
      "\n",
      "aic = lambda rss, p, n: n * np.log(rss/(n-p-1)) + 2*p\n",
      "\n",
      "RSS1 = ss(fmin(ss, [0,1], args=(x,y)), x, y)\n",
      "RSS2 = ss2(fmin(ss2, [1,1,-1], args=(x,y)), x, y)\n",
      "\n",
      "print aic(RSS1, 2, n), aic(RSS2, 3, n)"
     ],
     "language": "python",
     "metadata": {},
     "outputs": [
      {
       "output_type": "stream",
       "stream": "stdout",
       "text": [
        "Optimization terminated successfully.\n",
        "         Current function value: 21.375000\n",
        "         Iterations: 79\n",
        "         Function evaluations: 153\n",
        "Optimization terminated successfully.\n",
        "         Current function value: 14.001110\n",
        "         Iterations: 198\n",
        "         Function evaluations: 372\n",
        "15.7816583572 17.6759368019\n"
       ]
      }
     ],
     "prompt_number": 45
    },
    {
     "cell_type": "markdown",
     "metadata": {},
     "source": [
      "Hence, we would select the 2-parameter (linear) model."
     ]
    },
    {
     "cell_type": "markdown",
     "metadata": {},
     "source": [
      "## Logistic Regression\n",
      "\n",
      "Fitting a line to the relationship between two variables using the least squares approach is sensible when the variable we are trying to predict is continuous, but what about when the data are dichotomous?\n",
      "\n",
      "- male/female\n",
      "- pass/fail\n",
      "- died/survived\n",
      "\n",
      "Let's consider the problem of predicting survival in the Titanic disaster, based on our available information. For example, lets say that we want to predict survival as a function of the fare paid for the journey."
     ]
    },
    {
     "cell_type": "code",
     "collapsed": false,
     "input": [
      "titanic = pd.read_excel(\"data/titanic.xls\", \"titanic\")\n",
      "titanic.name"
     ],
     "language": "python",
     "metadata": {},
     "outputs": [
      {
       "metadata": {},
       "output_type": "pyout",
       "prompt_number": 46,
       "text": [
        "0                      Allen, Miss. Elisabeth Walton\n",
        "1                     Allison, Master. Hudson Trevor\n",
        "2                       Allison, Miss. Helen Loraine\n",
        "3               Allison, Mr. Hudson Joshua Creighton\n",
        "4    Allison, Mrs. Hudson J C (Bessie Waldo Daniels)\n",
        "5                                Anderson, Mr. Harry\n",
        "6                  Andrews, Miss. Kornelia Theodosia\n",
        "7                             Andrews, Mr. Thomas Jr\n",
        "8      Appleton, Mrs. Edward Dale (Charlotte Lamson)\n",
        "9                            Artagaveytia, Mr. Ramon\n",
        "...\n",
        "1298                  Wittevrongel, Mr. Camille\n",
        "1299                        Yasbeck, Mr. Antoni\n",
        "1300    Yasbeck, Mrs. Antoni (Selini Alexander)\n",
        "1301                       Youseff, Mr. Gerious\n",
        "1302                          Yousif, Mr. Wazli\n",
        "1303                      Yousseff, Mr. Gerious\n",
        "1304                       Zabour, Miss. Hileni\n",
        "1305                      Zabour, Miss. Thamine\n",
        "1306                  Zakarian, Mr. Mapriededer\n",
        "1307                        Zakarian, Mr. Ortin\n",
        "1308                         Zimmerman, Mr. Leo\n",
        "Name: name, Length: 1309, dtype: object"
       ]
      }
     ],
     "prompt_number": 46
    },
    {
     "cell_type": "code",
     "collapsed": false,
     "input": [
      "jitter = np.random.normal(scale=0.02, size=len(titanic))\n",
      "plt.scatter(np.log(titanic.fare), titanic.survived + jitter, alpha=0.3)\n",
      "plt.yticks([0,1])\n",
      "plt.ylabel(\"survived\")\n",
      "plt.xlabel(\"log(fare)\")"
     ],
     "language": "python",
     "metadata": {},
     "outputs": [
      {
       "metadata": {},
       "output_type": "pyout",
       "prompt_number": 47,
       "text": [
        "<matplotlib.text.Text at 0x108f06050>"
       ]
      },
      {
       "metadata": {},
       "output_type": "display_data",
       "png": "[encoded data removed]",
       "text": [
        "<matplotlib.figure.Figure at 0x108ebaa10>"
       ]
      }
     ],
     "prompt_number": 47
    },
    {
     "cell_type": "markdown",
     "metadata": {},
     "source": [
      "I have added random jitter on the y-axis to help visualize the density of the points, and have plotted fare on the log scale.\n",
      "\n",
      "Clearly, fitting a line through this data makes little sense, for several reasons. First, for most values of the predictor variable, the line would predict values that are not zero or one. Second, it would seem odd to choose least squares (or similar) as a criterion for selecting the best line."
     ]
    },
    {
     "cell_type": "code",
     "collapsed": false,
     "input": [
      "x = np.log(titanic.fare[titanic.fare>0])\n",
      "y = titanic.survived[titanic.fare>0]\n",
      "betas_titanic = fmin(ss, [1,1], args=(x,y))"
     ],
     "language": "python",
     "metadata": {},
     "outputs": [
      {
       "output_type": "stream",
       "stream": "stdout",
       "text": [
        "Optimization terminated successfully.\n",
        "         Current function value: 277.621917\n",
        "         Iterations: 55\n",
        "         Function evaluations: 103\n"
       ]
      }
     ],
     "prompt_number": 48
    },
    {
     "cell_type": "code",
     "collapsed": false,
     "input": [
      "jitter = np.random.normal(scale=0.02, size=len(titanic))\n",
      "plt.scatter(np.log(titanic.fare), titanic.survived + jitter, alpha=0.3)\n",
      "plt.yticks([0,1])\n",
      "plt.ylabel(\"survived\")\n",
      "plt.xlabel(\"log(fare)\")\n",
      "plt.plot([0,7], [betas_titanic[0], betas_titanic[0] + betas_titanic[1]*7.])"
     ],
     "language": "python",
     "metadata": {},
     "outputs": [
      {
       "metadata": {},
       "output_type": "pyout",
       "prompt_number": 49,
       "text": [
        "[<matplotlib.lines.Line2D at 0x108f09050>]"
       ]
      },
      {
       "metadata": {},
       "output_type": "display_data",
       "png": "[encoded data removed]",
       "text": [
        "<matplotlib.figure.Figure at 0x108f57b50>"
       ]
      }
     ],
     "prompt_number": 49
    },
    {
     "cell_type": "markdown",
     "metadata": {},
     "source": [
      "If we look at this data, we can see that for most values of `fare`, there are some individuals that survived and some that did not. However, notice that the cloud of points is denser on the \"survived\" (y=1) side for larger values of fare than on the \"died\" (y=0) side."
     ]
    },
    {
     "cell_type": "markdown",
     "metadata": {},
     "source": [
      "### Stochastic model\n",
      "\n",
      "Rather than model the binary outcome explicitly, it makes sense instead to model the *probability* of death or survival in a **stochastic** model. Probabilities are measured on a continuous [0,1] scale, which may be more amenable for prediction using a regression line. We need to consider a different probability model for this exerciese however; let's consider the **Bernoulli** distribution as a generative model for our data:\n",
      "\n",
      "<div style=\"font-size: 120%;\">  \n",
      "$$f(y|p) = p^{y} (1-p)^{1-y}$$ \n",
      "</div>  "
     ]
    },
    {
     "cell_type": "markdown",
     "metadata": {},
     "source": [
      "where $y = \\{0,1\\}$ and $p \\in [0,1]$. So, this model predicts whether $y$ is zero or one as a function of the probability $p$. Notice that when $y=1$, the $1-p$ term disappears, and when $y=0$, the $p$ term disappears.\n",
      "\n",
      "So, the model we want to fit should look something like this:\n",
      "\n",
      "<div style=\"font-size: 120%;\">  \n",
      "$$p_i = \\beta_0 + \\beta_1 x_i + \\epsilon_i$$\n",
      "</div>"
     ]
    },
    {
     "cell_type": "markdown",
     "metadata": {},
     "source": [
      "However, since $p$ is constrained to be between zero and one, it is easy to see where a linear (or polynomial) model might predict values outside of this range. We can modify this model sligtly by using a **link function** to transform the probability to have an unbounded range on a new scale. Specifically, we can use a **logit transformation** as our link function:\n",
      "\n",
      "<div style=\"font-size: 120%;\">  \n",
      "$$\\text{logit}(p) = \\log\\left[\\frac{p}{1-p}\\right] = x$$\n",
      "</div>"
     ]
    },
    {
     "cell_type": "markdown",
     "metadata": {},
     "source": [
      "Here's a plot of $p/(1-p)$"
     ]
    },
    {
     "cell_type": "code",
     "collapsed": false,
     "input": [
      "logit = lambda p: np.log(p/(1.-p))\n",
      "unit_interval = np.linspace(0,1)\n",
      "plt.plot(unit_interval/(1-unit_interval), unit_interval)"
     ],
     "language": "python",
     "metadata": {},
     "outputs": [
      {
       "metadata": {},
       "output_type": "pyout",
       "prompt_number": 50,
       "text": [
        "[<matplotlib.lines.Line2D at 0x109000b90>]"
       ]
      },
      {
       "metadata": {},
       "output_type": "display_data",
       "png": "[encoded data removed]",
       "text": [
        "<matplotlib.figure.Figure at 0x108befd50>"
       ]
      }
     ],
     "prompt_number": 50
    },
    {
     "cell_type": "markdown",
     "metadata": {},
     "source": [
      "And here's the logit function:"
     ]
    },
    {
     "cell_type": "code",
     "collapsed": false,
     "input": [
      "plt.plot(logit(unit_interval), unit_interval)"
     ],
     "language": "python",
     "metadata": {},
     "outputs": [
      {
       "metadata": {},
       "output_type": "pyout",
       "prompt_number": 51,
       "text": [
        "[<matplotlib.lines.Line2D at 0x109093950>]"
       ]
      },
      {
       "metadata": {},
       "output_type": "display_data",
       "png": "[encoded data removed]",
       "text": [
        "<matplotlib.figure.Figure at 0x108f74950>"
       ]
      }
     ],
     "prompt_number": 51
    },
    {
     "cell_type": "markdown",
     "metadata": {},
     "source": [
      "The inverse of the logit transformation is:\n",
      "\n",
      "<div style=\"font-size: 150%;\">  \n",
      "$$p = \\frac{1}{1 + \\exp(-x)}$$\n",
      "</div>"
     ]
    },
    {
     "cell_type": "markdown",
     "metadata": {},
     "source": [
      "So, now our model is:\n",
      "\n",
      "<div style=\"font-size: 120%;\">  \n",
      "$$\\text{logit}(p_i) = \\beta_0 + \\beta_1 x_i + \\epsilon_i$$\n",
      "</div>"
     ]
    },
    {
     "cell_type": "markdown",
     "metadata": {},
     "source": [
      "We can fit this model using maximum likelihood. Our likelihood, again based on the Bernoulli model is:\n",
      "\n",
      "<div style=\"font-size: 120%;\">  \n",
      "$$L(y|p) = \\prod_{i=1}^n p_i^{y_i} (1-p_i)^{1-y_i}$$\n",
      "</div>"
     ]
    },
    {
     "cell_type": "markdown",
     "metadata": {},
     "source": [
      "which, on the log scale is:\n",
      "\n",
      "<div style=\"font-size: 120%;\">  \n",
      "$$l(y|p) = \\sum_{i=1}^n y_i \\log(p_i) + (1-y_i)\\log(1-p_i)$$\n",
      "</div>"
     ]
    },
    {
     "cell_type": "markdown",
     "metadata": {},
     "source": [
      "We can easily implement this in Python, keeping in mind that `fmin` minimizes, rather than maximizes functions:"
     ]
    },
    {
     "cell_type": "code",
     "collapsed": false,
     "input": [
      "invlogit = lambda x: 1. / (1 + np.exp(-x))\n",
      "\n",
      "def logistic_like(theta, x, y):\n",
      "    p = invlogit(theta[0] + theta[1] * x)\n",
      "    # Return negative of log-likelihood\n",
      "    return -np.sum(y * np.log(p) + (1-y) * np.log(1 - p))"
     ],
     "language": "python",
     "metadata": {},
     "outputs": [],
     "prompt_number": 52
    },
    {
     "cell_type": "markdown",
     "metadata": {},
     "source": [
      "Remove null values from variables"
     ]
    },
    {
     "cell_type": "code",
     "collapsed": false,
     "input": [
      "x, y = titanic[titanic.fare.notnull()][['fare', 'survived']].values.T"
     ],
     "language": "python",
     "metadata": {},
     "outputs": [],
     "prompt_number": 53
    },
    {
     "cell_type": "markdown",
     "metadata": {},
     "source": [
      "... and fit the model."
     ]
    },
    {
     "cell_type": "code",
     "collapsed": false,
     "input": [
      "b0 ,b1 = fmin(logistic_like, [0.5,0], args=(x,y))\n",
      "b0, b1"
     ],
     "language": "python",
     "metadata": {},
     "outputs": [
      {
       "output_type": "stream",
       "stream": "stdout",
       "text": [
        "Optimization terminated successfully.\n",
        "         Current function value: 827.015955\n",
        "         Iterations: 47\n",
        "         Function evaluations: 93\n"
       ]
      },
      {
       "metadata": {},
       "output_type": "pyout",
       "prompt_number": 54,
       "text": [
        "(-0.88238984528338194, 0.012452067664164127)"
       ]
      }
     ],
     "prompt_number": 54
    },
    {
     "cell_type": "code",
     "collapsed": false,
     "input": [
      "jitter = np.random.normal(scale=0.01, size=len(x))\n",
      "plt.plot(x, y+jitter, 'r.', alpha=0.3)\n",
      "plt.yticks([0,.25,.5,.75,1])\n",
      "plt.xvals = np.linspace(0, 600)\n",
      "plt.plot(xvals, invlogit(b0+b1*xvals))"
     ],
     "language": "python",
     "metadata": {},
     "outputs": [
      {
       "metadata": {},
       "output_type": "pyout",
       "prompt_number": 55,
       "text": [
        "[<matplotlib.lines.Line2D at 0x1090b9a10>]"
       ]
      },
      {
       "metadata": {},
       "output_type": "display_data",
       "png": "[encoded data removed]",
       "text": [
        "<matplotlib.figure.Figure at 0x10909de50>"
       ]
      }
     ],
     "prompt_number": 55
    },
    {
     "cell_type": "markdown",
     "metadata": {},
     "source": [
      "As with our least squares model, we can easily fit logistic regression models in `statsmodels`, in this case using the `GLM` (generalized linear model) class with a binomial error distribution specified."
     ]
    },
    {
     "cell_type": "code",
     "collapsed": false,
     "input": [
      "logistic = sm.GLM(y, sm.add_constant(x), family=sm.families.Binomial()).fit()\n",
      "logistic.summary()"
     ],
     "language": "python",
     "metadata": {},
     "outputs": [
      {
       "html": [
        "<table class=\"simpletable\">\n",
        "<caption>Generalized Linear Model Regression Results</caption>\n",
        "<tr>\n",
        "  <th>Dep. Variable:</th>          <td>y</td>        <th>  No. Observations:  </th>  <td>  1308</td> \n",
        "</tr>\n",
        "<tr>\n",
        "  <th>Model:</th>                 <td>GLM</td>       <th>  Df Residuals:      </th>  <td>  1306</td> \n",
        "</tr>\n",
        "<tr>\n",
        "  <th>Model Family:</th>       <td>Binomial</td>     <th>  Df Model:          </th>  <td>     1</td> \n",
        "</tr>\n",
        "<tr>\n",
        "  <th>Link Function:</th>        <td>logit</td>      <th>  Scale:             </th>    <td>1.0</td>  \n",
        "</tr>\n",
        "<tr>\n",
        "  <th>Method:</th>               <td>IRLS</td>       <th>  Log-Likelihood:    </th> <td> -827.02</td>\n",
        "</tr>\n",
        "<tr>\n",
        "  <th>Date:</th>           <td>Sun, 23 Feb 2014</td> <th>  Deviance:          </th> <td>  1654.0</td>\n",
        "</tr>\n",
        "<tr>\n",
        "  <th>Time:</th>               <td>10:40:31</td>     <th>  Pearson chi2:      </th> <td>1.33e+03</td>\n",
        "</tr>\n",
        "<tr>\n",
        "  <th>No. Iterations:</th>         <td>6</td>        <th>                     </th>     <td> </td>   \n",
        "</tr>\n",
        "</table>\n",
        "<table class=\"simpletable\">\n",
        "<tr>\n",
        "    <td></td>       <th>coef</th>     <th>std err</th>      <th>t</th>      <th>P>|t|</th> <th>[95.0% Conf. Int.]</th> \n",
        "</tr>\n",
        "<tr>\n",
        "  <th>const</th> <td>   -0.8824</td> <td>    0.076</td> <td>  -11.684</td> <td> 0.000</td> <td>   -1.030    -0.734</td>\n",
        "</tr>\n",
        "<tr>\n",
        "  <th>x1</th>    <td>    0.0125</td> <td>    0.002</td> <td>    7.762</td> <td> 0.000</td> <td>    0.009     0.016</td>\n",
        "</tr>\n",
        "</table>"
       ],
       "metadata": {},
       "output_type": "pyout",
       "prompt_number": 56,
       "text": [
        "<class 'statsmodels.iolib.summary.Summary'>\n",
        "\"\"\"\n",
        "                 Generalized Linear Model Regression Results                  \n",
        "==============================================================================\n",
        "Dep. Variable:                      y   No. Observations:                 1308\n",
        "Model:                            GLM   Df Residuals:                     1306\n",
        "Model Family:                Binomial   Df Model:                            1\n",
        "Link Function:                  logit   Scale:                             1.0\n",
        "Method:                          IRLS   Log-Likelihood:                -827.02\n",
        "Date:                Sun, 23 Feb 2014   Deviance:                       1654.0\n",
        "Time:                        10:40:31   Pearson chi2:                 1.33e+03\n",
        "No. Iterations:                     6                                         \n",
        "==============================================================================\n",
        "                 coef    std err          t      P>|t|      [95.0% Conf. Int.]\n",
        "------------------------------------------------------------------------------\n",
        "const         -0.8824      0.076    -11.684      0.000        -1.030    -0.734\n",
        "x1             0.0125      0.002      7.762      0.000         0.009     0.016\n",
        "==============================================================================\n",
        "\"\"\""
       ]
      }
     ],
     "prompt_number": 56
    },
    {
     "cell_type": "markdown",
     "metadata": {},
     "source": [
      "## Bootstrapping\n",
      "\n",
      "Parametric inference can be **non-robust**:\n",
      "\n",
      "* inaccurate if parametric assumptions are violated\n",
      "* if we rely on asymptotic results, we may not achieve an acceptable level of accuracy\n",
      "\n",
      "Parmetric inference can be **difficult**:\n",
      "\n",
      "* derivation of sampling distribution may not be possible\n",
      "\n",
      "An alternative is to estimate the sampling distribution of a statistic *empirically* without making assumptions about the form of the population.\n",
      "\n",
      "We have seen this already with the kernel density estimate."
     ]
    },
    {
     "cell_type": "markdown",
     "metadata": {},
     "source": [
      "### Non-parametric Bootstrap\n",
      "\n",
      "The bootstrap is a resampling method discovered by [Brad Efron](http://www.jstor.org/discover/10.2307/2958830?uid=3739568&uid=2&uid=4&uid=3739256&sid=21102342537691) that allows one to approximate the true sampling distribution of a dataset, and thereby obtain estimates of the mean and variance of the distribution.\n",
      "\n",
      "Bootstrap sample:\n",
      "\n",
      "<div style=\"font-size: 120%;\">  \n",
      "$$S_1^* = \\{x_{11}^*, x_{12}^*, \\ldots, x_{1n}^*\\}$$\n",
      "</div>"
     ]
    },
    {
     "cell_type": "markdown",
     "metadata": {},
     "source": [
      "$S_i^*$ is a sample of size $n$, **with** replacement.\n",
      "\n",
      "The NumPy function `permutation` can be used to generate a random sample of some data without replacement:"
     ]
    },
    {
     "cell_type": "code",
     "collapsed": false,
     "input": [
      "np.random.permutation(titanic.name)[:5]"
     ],
     "language": "python",
     "metadata": {},
     "outputs": [
      {
       "metadata": {},
       "output_type": "pyout",
       "prompt_number": 57,
       "text": [
        "array([u'Ahlin, Mrs. Johan (Johanna Persdotter Larsson)',\n",
        "       u'McCormack, Mr. Thomas Joseph', u'Reynaldo, Ms. Encarnacion',\n",
        "       u'Cumings, Mr. John Bradley',\n",
        "       u'Coutts, Master. Eden Leslie \"Neville\"'], dtype=object)"
       ]
      }
     ],
     "prompt_number": 57
    },
    {
     "cell_type": "markdown",
     "metadata": {},
     "source": [
      "Similarly, we can use the `random.randint` method to generate a sample *with* replacement, which we can use when bootstrapping."
     ]
    },
    {
     "cell_type": "code",
     "collapsed": false,
     "input": [
      "random_ind = np.random.randint(0, len(titanic), 5)\n",
      "titanic.name[random_ind]"
     ],
     "language": "python",
     "metadata": {},
     "outputs": [
      {
       "metadata": {},
       "output_type": "pyout",
       "prompt_number": 58,
       "text": [
        "308     White, Mrs. John Stuart (Ella Holmes)\n",
        "1004           McDermott, Miss. Brigdet Delia\n",
        "1126                  Petranec, Miss. Matilda\n",
        "773                          Dimic, Mr. Jovan\n",
        "945                              Lam, Mr. Ali\n",
        "Name: name, dtype: object"
       ]
      }
     ],
     "prompt_number": 58
    },
    {
     "cell_type": "markdown",
     "metadata": {},
     "source": [
      "We regard S as an \"estimate\" of population P\n",
      "\n",
      "> population : sample :: sample : bootstrap sample\n",
      "\n",
      "The idea is to generate replicate bootstrap samples:\n",
      "\n",
      "<div style=\"font-size: 120%;\">  \n",
      "$$S^* = \\{S_1^*, S_2^*, \\ldots, S_R^*\\}$$\n",
      "</div>"
     ]
    },
    {
     "cell_type": "markdown",
     "metadata": {},
     "source": [
      "Compute statistic $t$ (estimate) for each bootstrap sample:\n",
      "\n",
      "<div style=\"font-size: 120%;\">  \n",
      "$$T_i^* = t(S^*)$$\n",
      "</div>"
     ]
    },
    {
     "cell_type": "code",
     "collapsed": false,
     "input": [
      "n = 10\n",
      "R = 1000\n",
      "# Original sample (n=10)\n",
      "x = np.random.normal(size=n)\n",
      "# 1000 bootstrap samples of size 10\n",
      "s = [x[np.random.randint(0,n,n)].mean() for i in range(R)]\n",
      "_ = plt.hist(s, bins=30)"
     ],
     "language": "python",
     "metadata": {},
     "outputs": [
      {
       "metadata": {},
       "output_type": "display_data",
       "png": "[encoded data removed]",
       "text": [
        "<matplotlib.figure.Figure at 0x1090b9bd0>"
       ]
      }
     ],
     "prompt_number": 59
    },
    {
     "cell_type": "markdown",
     "metadata": {},
     "source": [
      "### Bootstrap Estimates\n",
      "\n",
      "From our bootstrapped samples, we can extract *estimates* of the expectation and its variance:\n",
      "\n",
      "$$\\bar{T}^* = \\hat{E}(T^*) = \\frac{\\sum_i T_i^*}{R}$$\n",
      "\n",
      "$$\\hat{\\text{Var}}(T^*) = \\frac{\\sum_i (T_i^* - \\bar{T}^*)^2}{R-1}$$\n"
     ]
    },
    {
     "cell_type": "code",
     "collapsed": false,
     "input": [
      "boot_mean = np.sum(s)/R\n",
      "boot_mean"
     ],
     "language": "python",
     "metadata": {},
     "outputs": [
      {
       "metadata": {},
       "output_type": "pyout",
       "prompt_number": 60,
       "text": [
        "-0.26109460708189697"
       ]
      }
     ],
     "prompt_number": 60
    },
    {
     "cell_type": "code",
     "collapsed": false,
     "input": [
      "boot_var = ((np.array(s) - boot_mean) ** 2).sum() / (R-1)\n",
      "boot_var"
     ],
     "language": "python",
     "metadata": {},
     "outputs": [
      {
       "metadata": {},
       "output_type": "pyout",
       "prompt_number": 61,
       "text": [
        "0.089079064843898145"
       ]
      }
     ],
     "prompt_number": 61
    },
    {
     "cell_type": "markdown",
     "metadata": {},
     "source": [
      "Since we have estimated the expectation of the bootstrapped statistics, we can estimate the **bias** of T:\n",
      "\n",
      "$$\\hat{B}^* = \\bar{T}^* - T$$\n"
     ]
    },
    {
     "cell_type": "code",
     "collapsed": false,
     "input": [
      "boot_mean - np.mean(x)"
     ],
     "language": "python",
     "metadata": {},
     "outputs": [
      {
       "metadata": {},
       "output_type": "pyout",
       "prompt_number": 62,
       "text": [
        "-0.011697963201919293"
       ]
      }
     ],
     "prompt_number": 62
    },
    {
     "cell_type": "markdown",
     "metadata": {},
     "source": [
      "### Bootstrap error\n",
      "\n",
      "There are two sources of error in bootstrap estimates:\n",
      "\n",
      "1. **Sampling error** from the selection of $S$.\n",
      "2. **Bootstrap error** from failing to enumerate all possible bootstrap samples.\n",
      "\n",
      "For the sake of accuracy, it is prudent to choose at least R=1000"
     ]
    },
    {
     "cell_type": "markdown",
     "metadata": {},
     "source": [
      "### Bootstrap Percentile Intervals\n",
      "\n",
      "An attractive feature of bootstrap statistics is the ease with which you can obtain an estimate of *uncertainty* for a given statistic. We simply use the empirical quantiles of the bootstrapped statistics to obtain percentiles corresponding to a confidence interval of interest.\n",
      "\n",
      "This employs the *ordered* bootstrap replicates:\n",
      "\n",
      "$$T_{(1)}^*, T_{(2)}^*, \\ldots, T_{(R)}^*$$\n",
      "\n",
      "Simply extract the $100(\\alpha/2)$ and $100(1-\\alpha/2)$ percentiles:\n",
      "\n",
      "$$T_{[(R+1)\\alpha/2]}^* \\lt \\theta \\lt T_{[(R+1)(1-\\alpha/2)]}^*$$"
     ]
    },
    {
     "cell_type": "code",
     "collapsed": false,
     "input": [
      "s_sorted = np.sort(s)\n",
      "s_sorted[:10]"
     ],
     "language": "python",
     "metadata": {},
     "outputs": [
      {
       "metadata": {},
       "output_type": "pyout",
       "prompt_number": 63,
       "text": [
        "array([-1.21473328, -1.20296609, -1.14257574, -1.12029849, -1.09395259,\n",
        "       -1.03641168, -1.03146359, -1.01978558, -1.00359632, -0.94009612])"
       ]
      }
     ],
     "prompt_number": 63
    },
    {
     "cell_type": "code",
     "collapsed": false,
     "input": [
      "s_sorted[-10:]"
     ],
     "language": "python",
     "metadata": {},
     "outputs": [
      {
       "metadata": {},
       "output_type": "pyout",
       "prompt_number": 64,
       "text": [
        "array([ 0.39140486,  0.39440803,  0.40575741,  0.40891146,  0.43260227,\n",
        "        0.43500618,  0.49686382,  0.54923955,  0.55645112,  0.59660475])"
       ]
      }
     ],
     "prompt_number": 64
    },
    {
     "cell_type": "code",
     "collapsed": false,
     "input": [
      "alpha = 0.05\n",
      "s_sorted[[(R+1)*alpha/2, (R+1)*(1-alpha/2)]]"
     ],
     "language": "python",
     "metadata": {},
     "outputs": [
      {
       "metadata": {},
       "output_type": "pyout",
       "prompt_number": 65,
       "text": [
        "array([-0.84960042,  0.28246507])"
       ]
      }
     ],
     "prompt_number": 65
    }
   ],
   "metadata": {}
  }
 ]
}